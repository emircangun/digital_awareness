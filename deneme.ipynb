{
 "cells": [
  {
   "cell_type": "code",
   "execution_count": 4,
   "metadata": {},
   "outputs": [],
   "source": [
    "import crispyn\n",
    "\n",
    "\n",
    "criteria_indexes = [\n",
    "        [4, 7, 8, 0],\n",
    "        [2, 3],\n",
    "        [],\n",
    "        [5],\n",
    "        [],\n",
    "        [],\n",
    "        [1, 6]\n",
    "    ]\n",
    "\n",
    "criteria_values_I = [\n",
    "        [0, 1, 2, 4],\n",
    "        [1, 2],\n",
    "        [],\n",
    "        [2],\n",
    "        [],\n",
    "        [],\n",
    "        [1, 3]\n",
    "    ]\n",
    "\n",
    "\n",
    "weights = crispyn.weighting_methods.lbwa_weighting(criteria_indexes, criteria_values)"
   ]
  },
  {
   "cell_type": "code",
   "execution_count": 5,
   "metadata": {},
   "outputs": [
    {
     "data": {
      "text/plain": [
       "array([0.12422624, 0.03105656, 0.10163965, 0.09316968, 0.22360723,\n",
       "       0.05081983, 0.029422  , 0.18633936, 0.15971945])"
      ]
     },
     "execution_count": 5,
     "metadata": {},
     "output_type": "execute_result"
    }
   ],
   "source": [
    "weights"
   ]
  },
  {
   "cell_type": "code",
   "execution_count": null,
   "metadata": {},
   "outputs": [],
   "source": []
  }
 ],
 "metadata": {
  "kernelspec": {
   "display_name": ".venv",
   "language": "python",
   "name": "python3"
  },
  "language_info": {
   "codemirror_mode": {
    "name": "ipython",
    "version": 3
   },
   "file_extension": ".py",
   "mimetype": "text/x-python",
   "name": "python",
   "nbconvert_exporter": "python",
   "pygments_lexer": "ipython3",
   "version": "3.8.2"
  }
 },
 "nbformat": 4,
 "nbformat_minor": 2
}

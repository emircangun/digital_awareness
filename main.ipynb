{
 "cells": [
  {
   "cell_type": "code",
   "execution_count": 1,
   "metadata": {},
   "outputs": [],
   "source": [
    "import pandas as pd"
   ]
  },
  {
   "cell_type": "code",
   "execution_count": 2,
   "metadata": {},
   "outputs": [],
   "source": [
    "q_df = pd.read_excel(\"./data/questions.xlsx\")"
   ]
  },
  {
   "cell_type": "code",
   "execution_count": 43,
   "metadata": {},
   "outputs": [
    {
     "data": {
      "text/plain": [
       "[\"The impact of your company's real-time insights and analytical capabilities on business decisions and operational efficiency is high.\",\n",
       " 'The degree to which data analytics and big data management improve your decision-making processes is high.']"
      ]
     },
     "execution_count": 43,
     "metadata": {},
     "output_type": "execute_result"
    }
   ],
   "source": [
    "list(q_df[(q_df['Dimension'] == \"Technology\") & (q_df['Sub-dimension'] == \"Data & Analytics\")][\"Question\"])"
   ]
  },
  {
   "cell_type": "code",
   "execution_count": 54,
   "metadata": {},
   "outputs": [],
   "source": [
    "def get_questions():\n",
    "    q_df = pd.read_excel(\"./data/questions.xlsx\")\n",
    "\n",
    "    question_dict = {}\n",
    "    for dim_name in q_df['Dimension'].unique():\n",
    "        dim_rows = q_df[q_df['Dimension'] == dim_name]\n",
    "        subdims = q_df[q_df['Dimension'] == dim_name][\"Sub-dimension\"].unique()\n",
    "\n",
    "        _question_dict = {}\n",
    "        for subdim in subdims:\n",
    "            subdim_questions = list(q_df[(q_df['Dimension'] == dim_name) & (q_df['Sub-dimension'] == subdim)][\"Question\"])\n",
    "            _question_dict[subdim] = subdim_questions\n",
    "        \n",
    "        question_dict[dim_name] = _question_dict\n",
    "\n",
    "    return question_dict"
   ]
  },
  {
   "cell_type": "code",
   "execution_count": 57,
   "metadata": {},
   "outputs": [
    {
     "data": {
      "text/plain": [
       "['Organization', 'Technology', 'Strategy', 'Customer', 'Employee']"
      ]
     },
     "execution_count": 57,
     "metadata": {},
     "output_type": "execute_result"
    }
   ],
   "source": [
    "list(get_questions().keys())"
   ]
  },
  {
   "cell_type": "code",
   "execution_count": 52,
   "metadata": {},
   "outputs": [
    {
     "data": {
      "text/plain": [
       "array(['Organization ', 'Technology', 'Strategy', 'Customer', 'Employee'],\n",
       "      dtype=object)"
      ]
     },
     "execution_count": 52,
     "metadata": {},
     "output_type": "execute_result"
    }
   ],
   "source": [
    "q_df['Dimension'].unique()"
   ]
  },
  {
   "cell_type": "code",
   "execution_count": 4,
   "metadata": {},
   "outputs": [
    {
     "data": {
      "text/plain": [
       "'c:\\\\Users\\\\leonr\\\\Desktop\\\\aleyna_tez\\\\data\\\\questions.xlsx'"
      ]
     },
     "execution_count": 4,
     "metadata": {},
     "output_type": "execute_result"
    }
   ],
   "source": [
    "import os\n",
    "\n",
    "os.path.join(os.getcwd(), \"data\", \"questions.xlsx\")"
   ]
  },
  {
   "cell_type": "code",
   "execution_count": null,
   "metadata": {},
   "outputs": [],
   "source": []
  }
 ],
 "metadata": {
  "kernelspec": {
   "display_name": "Python 3",
   "language": "python",
   "name": "python3"
  },
  "language_info": {
   "codemirror_mode": {
    "name": "ipython",
    "version": 3
   },
   "file_extension": ".py",
   "mimetype": "text/x-python",
   "name": "python",
   "nbconvert_exporter": "python",
   "pygments_lexer": "ipython3",
   "version": "3.8.2"
  }
 },
 "nbformat": 4,
 "nbformat_minor": 2
}
